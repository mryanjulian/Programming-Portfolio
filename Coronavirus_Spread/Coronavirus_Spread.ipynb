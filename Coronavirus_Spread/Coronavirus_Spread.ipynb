{
 "cells": [
  {
   "cell_type": "markdown",
   "metadata": {},
   "source": [
    "# COVID-19 Progress Map\n",
    "#### Author: Ryan Julian\n",
    "\n",
    "The goal of this project is to generate a gif displaying the progress of the 2019 novel coronavirus COVID-19.  The data for this project comes from the Johns Hopkins University Center for Systems Science and Engineering GitHub repository here: https://github.com/CSSEGISandData/COVID-19"
   ]
  },
  {
   "cell_type": "markdown",
   "metadata": {},
   "source": [
    "## Packages"
   ]
  },
  {
   "cell_type": "code",
   "execution_count": 21,
   "metadata": {},
   "outputs": [],
   "source": [
    "import pandas as pd\n",
    "import matplotlib.pyplot as plt\n",
    "import numpy as np\n",
    "from mpl_toolkits.basemap import Basemap\n",
    "import imageio"
   ]
  },
  {
   "cell_type": "markdown",
   "metadata": {},
   "source": [
    "## Data Intake\n",
    "\n",
    "We use pandas to load the csv files containing COVID-19 time series data.  These files contain the numbers of confirmed cases, recoveries, and deaths due to coronavirus organized according to location and date.  The location data is typically resolved down to the province or country level, but in some regions such as the US, it is given by county.  Each location also comes with latitude and longitude values that are useful for displaying this data on our map."
   ]
  },
  {
   "cell_type": "code",
   "execution_count": 22,
   "metadata": {},
   "outputs": [],
   "source": [
    "HEADER = 'https://raw.githubusercontent.com/CSSEGISandData/COVID-19/master/csse_covid_19_data/csse_covid_19_time_series/'\n",
    "\n",
    "covid_conf = pd.read_csv(HEADER+'time_series_19-covid-Confirmed.csv')\n",
    "covid_rec = pd.read_csv(HEADER+'time_series_19-covid-Recovered.csv')\n",
    "covid_death = pd.read_csv(HEADER+'time_series_19-covid-Deaths.csv')"
   ]
  },
  {
   "cell_type": "markdown",
   "metadata": {},
   "source": [
    "## Making the Frames\n",
    "\n",
    "Here we prepare a png image for each date currently in the dataset, and save these in a folder for later retrieval.  On top of a background world map, we display blue circles representing active cases at each location (confirmed - recovered - deaths) and red circles representing the total number of deaths at each location.  The size of the circles corresponds to the number of cases as indicated in the legend."
   ]
  },
  {
   "cell_type": "code",
   "execution_count": 23,
   "metadata": {},
   "outputs": [],
   "source": [
    "i = 0\n",
    "for date in covid_conf.keys()[4:]:\n",
    "    m,d,y = date.split('/')\n",
    "    d = '0'*(2-len(d))+d\n",
    "    fig, ax = plt.subplots(figsize=(10,5))\n",
    "    earth = Basemap(ax=ax)\n",
    "    earth.drawcoastlines(color='#555555', linewidth=1)\n",
    "    ax.scatter(covid_conf['Long'], covid_conf['Lat'], alpha = 0.2,\n",
    "                    s = covid_conf[date]-covid_rec[date]-covid_death[date],c='blue')\n",
    "    ax.scatter(covid_conf['Long'], covid_conf['Lat'], alpha = 0.2, \n",
    "              s = covid_death[date], c='red')\n",
    "    ax.set_xlabel(\"COVID19 cases as of \"+m+'/'+d+'/'+y)\n",
    "    plt.scatter([],[], s=10, c='blue', alpha = 0.2, label='10 active cases')\n",
    "    plt.scatter([],[], s=100, c='blue', alpha = 0.2, label='100 active cases')\n",
    "    plt.scatter([],[], s=10, c='red', alpha = 0.2, label='10 deaths')\n",
    "    plt.scatter([],[], s=100, c='red', alpha = 0.2, label='100 deaths')\n",
    "    plt.legend(loc='lower left')\n",
    "    i += 1\n",
    "    filename = 'frame'+'0'*(3-len(str(i)))+str(i)+'.png'\n",
    "    plt.savefig('png_images/'+filename,dpi=96)\n",
    "    plt.close()"
   ]
  },
  {
   "cell_type": "markdown",
   "metadata": {},
   "source": [
    "## Creating the gif\n",
    "\n",
    "We use the imageio package to construct a gif from these frames.  The final frame is added to the end 30 extra times to give the viewer a few seconds to inspect the most recent map before the gif repeats."
   ]
  },
  {
   "cell_type": "code",
   "execution_count": 24,
   "metadata": {},
   "outputs": [],
   "source": [
    "images = []\n",
    "for j in range(1,i+1):\n",
    "    images.append(imageio.imread('png_images/frame'+'0'*(3-len(str(j)))+str(j)+'.png'))\n",
    "for j in range(1,30):\n",
    "    images.append(imageio.imread('png_images/frame'+'0'*(3-len(str(i)))+str(i)+'.png'))\n",
    "imageio.mimsave('COVID19.gif', images)"
   ]
  },
  {
   "cell_type": "code",
   "execution_count": null,
   "metadata": {},
   "outputs": [],
   "source": []
  }
 ],
 "metadata": {
  "kernelspec": {
   "display_name": "Python 3",
   "language": "python",
   "name": "python3"
  },
  "language_info": {
   "codemirror_mode": {
    "name": "ipython",
    "version": 3
   },
   "file_extension": ".py",
   "mimetype": "text/x-python",
   "name": "python",
   "nbconvert_exporter": "python",
   "pygments_lexer": "ipython3",
   "version": "3.7.6"
  }
 },
 "nbformat": 4,
 "nbformat_minor": 4
}
