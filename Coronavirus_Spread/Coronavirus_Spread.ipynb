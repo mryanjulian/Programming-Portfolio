{
 "cells": [
  {
   "cell_type": "code",
   "execution_count": 13,
   "metadata": {},
   "outputs": [],
   "source": [
    "import os\n",
    "import pandas as pd\n",
    "import matplotlib.pyplot as plt\n",
    "import numpy as np\n",
    "from mpl_toolkits.basemap import Basemap\n",
    "\n",
    "COVID_PATH = os.path.join(\"datasets\",\"COVID19\")\n",
    "covid_conf_file = os.path.join(COVID_PATH, \"time_series_19-covid-Confirmed.csv\")\n",
    "covid_rec_file = os.path.join(COVID_PATH, \"time_series_19-covid-Recovered.csv\")\n",
    "covid_death_file = os.path.join(COVID_PATH, \"time_series_19-covid-Deaths.csv\")\n",
    "\n",
    "covid_conf = pd.read_csv(covid_conf_file)\n",
    "covid_rec = pd.read_csv(covid_rec_file)\n",
    "covid_death = pd.read_csv(covid_death_file)"
   ]
  },
  {
   "cell_type": "code",
   "execution_count": 14,
   "metadata": {},
   "outputs": [],
   "source": [
    "for date in covid_conf.keys()[4:]:\n",
    "    m,d,y = date.split('/')\n",
    "    d = '0'*(2-len(d))+d\n",
    "    fig, ax = plt.subplots(figsize=(10,5))\n",
    "    earth = Basemap(ax=ax)\n",
    "    earth.drawcoastlines(color='#555566', linewidth=1)\n",
    "    ax.scatter(covid_conf['Long'], covid_conf['Lat'], alpha = 0.2,\n",
    "                    s = covid_conf[date]-covid_rec[date]-covid_death[date],c='blue')\n",
    "    ax.scatter(covid_conf['Long'], covid_conf['Lat'], alpha = 0.2, \n",
    "              s = covid_death[date], c='red')\n",
    "    ax.set_xlabel(\"COVID19 cases as of \"+m+'/'+d+'/'+y)\n",
    "    plt.scatter([],[], s=10, c='blue', alpha = 0.2, label='10 active cases')\n",
    "    plt.scatter([],[], s=100, c='blue', alpha = 0.2, label='100 active cases')\n",
    "    plt.scatter([],[], s=10, c='red', alpha = 0.2, label='10 deaths')\n",
    "    plt.scatter([],[], s=100, c='red', alpha = 0.2, label='100 deaths')\n",
    "    plt.legend(loc='lower left')\n",
    "    filename = m+'_'+d+'.png'\n",
    "    plt.savefig(filename,dpi=96)\n",
    "    plt.close()"
   ]
  },
  {
   "cell_type": "code",
   "execution_count": 12,
   "metadata": {},
   "outputs": [],
   "source": [
    "# Convert .png files to a .gif using 'convert -delay 15 *.png COVID19.gif' from command line"
   ]
  }
 ],
 "metadata": {
  "kernelspec": {
   "display_name": "Python 3",
   "language": "python",
   "name": "python3"
  },
  "language_info": {
   "codemirror_mode": {
    "name": "ipython",
    "version": 3
   },
   "file_extension": ".py",
   "mimetype": "text/x-python",
   "name": "python",
   "nbconvert_exporter": "python",
   "pygments_lexer": "ipython3",
   "version": "3.7.6"
  }
 },
 "nbformat": 4,
 "nbformat_minor": 4
}
